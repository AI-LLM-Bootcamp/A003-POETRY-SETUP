{
 "cells": [
  {
   "cell_type": "markdown",
   "id": "701c32fd-5043-401a-933d-369775d8cc8c",
   "metadata": {},
   "source": [
    "# Instructor setup before new lesson"
   ]
  },
  {
   "cell_type": "markdown",
   "id": "5a48e01e-714d-4f71-9505-45b0b327034e",
   "metadata": {},
   "source": [
    "## In Main Directory\n",
    "* pyenv local 3.11.4\n",
    "* poetry new NEW-FOLDER-NAME\n",
    "* change python version in .toml file\n",
    "* cd NEW-FOLDER-NAME\n",
    "* pwd\n",
    "* **open second terminal window**\n",
    "* poetry install\n",
    "* poetry shell\n",
    "* poetry add jupyterlab\n",
    "* add .env, .env.example and .gitignore\n",
    "* poetry add langchain\n",
    "* poetry add langchain-openai\n",
    "* poetry add python-dotenv via poetry\n",
    "* **jupyter lab**"
   ]
  },
  {
   "cell_type": "markdown",
   "id": "64f87ca9-5a4f-4860-a4ea-708b8e108a42",
   "metadata": {},
   "source": [
    "## Second terminal window\n",
    "* In main directory\n",
    "* poetry shell\n",
    "* test it via notebook"
   ]
  },
  {
   "cell_type": "markdown",
   "id": "848cac67-c857-436e-bec6-a501bc1edcc1",
   "metadata": {},
   "source": [
    "## Open Visual Studio Code"
   ]
  },
  {
   "cell_type": "code",
   "execution_count": null,
   "id": "ba1244d9-1fa6-4953-ab53-a3feed255125",
   "metadata": {},
   "outputs": [],
   "source": []
  }
 ],
 "metadata": {
  "kernelspec": {
   "display_name": "Python 3 (ipykernel)",
   "language": "python",
   "name": "python3"
  },
  "language_info": {
   "codemirror_mode": {
    "name": "ipython",
    "version": 3
   },
   "file_extension": ".py",
   "mimetype": "text/x-python",
   "name": "python",
   "nbconvert_exporter": "python",
   "pygments_lexer": "ipython3",
   "version": "3.11.4"
  }
 },
 "nbformat": 4,
 "nbformat_minor": 5
}
