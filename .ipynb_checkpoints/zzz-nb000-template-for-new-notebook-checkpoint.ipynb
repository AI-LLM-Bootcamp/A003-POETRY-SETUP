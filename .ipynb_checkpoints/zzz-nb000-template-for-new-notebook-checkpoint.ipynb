{
 "cells": [
  {
   "cell_type": "markdown",
   "id": "cc01cfd9-9159-4400-96e6-74f84e887413",
   "metadata": {},
   "source": [
    "# Template for the new notebook"
   ]
  },
  {
   "cell_type": "markdown",
   "id": "4eec0d9d-849c-444f-974e-0f1f4961e340",
   "metadata": {},
   "source": [
    "## Create your .env file\n",
    "* In the github repo we have included a file named .env.example\n",
    "* Rename that file to .env file and here is where you will add your confidential api keys. Remember to include:\n",
    "* OPENAI_API_KEY=your_openai_api_key\n",
    "* LANGCHAIN_TRACING_V2=true\n",
    "* LANGCHAIN_ENDPOINT=https://api.smith.langchain.com\n",
    "* LANGCHAIN_API_KEY=your_langchain_api_key\n",
    "* LANGCHAIN_PROJECT=your_project_name"
   ]
  },
  {
   "cell_type": "markdown",
   "id": "286de90f-fa42-4e81-9e90-2f9d9b5ff0e7",
   "metadata": {},
   "source": [
    "We will call this LangSmith project **projectName**."
   ]
  },
  {
   "cell_type": "markdown",
   "id": "0b4135df-7c6e-408c-a9b6-b8729bdb7be4",
   "metadata": {},
   "source": [
    "## Track operations\n",
    "From now on, we can track the operations **and the cost** of this project from LangSmith:\n",
    "* [smith.langchain.com](https://smith.langchain.com)"
   ]
  },
  {
   "cell_type": "markdown",
   "id": "6eedda0e-7985-4c6b-8abb-cade53254d4f",
   "metadata": {},
   "source": [
    "## Connect with the .env file located in the same directory of this notebook"
   ]
  },
  {
   "cell_type": "markdown",
   "id": "2d3b519b-1c51-4282-ba4e-fc880195d4e8",
   "metadata": {},
   "source": [
    "If you are using the pre-loaded poetry shell, you do not need to install the following package because it is already pre-loaded for you:"
   ]
  },
  {
   "cell_type": "code",
   "execution_count": 1,
   "id": "91d612eb-2b9e-4fcc-85db-3e4849eae344",
   "metadata": {},
   "outputs": [],
   "source": [
    "#pip install python-dotenv"
   ]
  },
  {
   "cell_type": "code",
   "execution_count": 2,
   "id": "45e0feb7-8eb6-4391-85d4-91b7ecc948a1",
   "metadata": {},
   "outputs": [],
   "source": [
    "import os\n",
    "from dotenv import load_dotenv, find_dotenv\n",
    "_ = load_dotenv(find_dotenv())\n",
    "openai_api_key = os.environ[\"OPENAI_API_KEY\"]"
   ]
  },
  {
   "cell_type": "markdown",
   "id": "db555fd2-9581-4ceb-bb3e-4b3b9ee5745c",
   "metadata": {},
   "source": [
    "## Create a new Chat Model\n",
    "* In this project we will use the gpt-3.5-turbo Foundation LLM from OpenAI.\n",
    "* [Here](https://platform.openai.com/docs/models/overview) you can take a look at the different models and prices of OpenAI."
   ]
  },
  {
   "cell_type": "markdown",
   "id": "379bd547-3ffc-4819-b0b8-bbafa611194e",
   "metadata": {},
   "source": [
    "If you are using the pre-loaded poetry shell, you do not need to install the following package because it is already pre-loaded for you:"
   ]
  },
  {
   "cell_type": "code",
   "execution_count": 3,
   "id": "27dcdaa8-9228-4100-923b-b06d59a4f255",
   "metadata": {},
   "outputs": [],
   "source": [
    "#pip install langchain\n",
    "#pip install langchain-openai"
   ]
  },
  {
   "cell_type": "code",
   "execution_count": 4,
   "id": "8b0e19e9-5d47-4fcf-b057-0af4dfe1eb28",
   "metadata": {},
   "outputs": [],
   "source": [
    "from langchain_openai import ChatOpenAI\n",
    "\n",
    "chatModel = ChatOpenAI(model=\"gpt-3.5-turbo\")"
   ]
  },
  {
   "cell_type": "markdown",
   "id": "654c2515-d6c0-426e-ac01-cd00a869807c",
   "metadata": {},
   "source": [
    "## Ask the first question to the Chat Model"
   ]
  },
  {
   "cell_type": "code",
   "execution_count": 5,
   "id": "8cea967d-72f0-48d1-8384-52b68dc87b9a",
   "metadata": {},
   "outputs": [],
   "source": [
    "question = \"How old was RFK when he died?\""
   ]
  },
  {
   "cell_type": "code",
   "execution_count": 6,
   "id": "6401defd-fb87-4acd-a32e-59b65bec3630",
   "metadata": {},
   "outputs": [],
   "source": [
    "response = chatModel.invoke(question)"
   ]
  },
  {
   "cell_type": "code",
   "execution_count": 7,
   "id": "57aadd02-ec00-4002-9661-f05c1864d9f6",
   "metadata": {},
   "outputs": [
    {
     "name": "stdout",
     "output_type": "stream",
     "text": [
      "Robert F. Kennedy was 42 years old when he was assassinated on June 6, 1968.\n"
     ]
    }
   ],
   "source": [
    "print(response.content)"
   ]
  },
  {
   "cell_type": "markdown",
   "id": "2bd33149-996b-418f-b2ac-ff471cd48ea8",
   "metadata": {},
   "source": [
    "## How to execute the code from Visual Studio Code\n",
    "* In Visual Studio Code, see the file 001-file-name.py\n",
    "* In terminal, make sure you are in the directory of the file and run:\n",
    "    * python 001-file-name.py"
   ]
  },
  {
   "cell_type": "code",
   "execution_count": null,
   "id": "96f0f143-bf58-4d09-ac28-50f19caddfe8",
   "metadata": {},
   "outputs": [],
   "source": []
  }
 ],
 "metadata": {
  "kernelspec": {
   "display_name": "Python 3 (ipykernel)",
   "language": "python",
   "name": "python3"
  },
  "language_info": {
   "codemirror_mode": {
    "name": "ipython",
    "version": 3
   },
   "file_extension": ".py",
   "mimetype": "text/x-python",
   "name": "python",
   "nbconvert_exporter": "python",
   "pygments_lexer": "ipython3",
   "version": "3.11.4"
  }
 },
 "nbformat": 4,
 "nbformat_minor": 5
}
